{
  "nbformat": 4,
  "nbformat_minor": 0,
  "metadata": {
    "colab": {
      "name": "seperate_lists.ipynb",
      "provenance": [],
      "collapsed_sections": [],
      "authorship_tag": "ABX9TyOjSR1oE4TeijLPbNuhGAKi",
      "include_colab_link": true
    },
    "kernelspec": {
      "name": "python3",
      "display_name": "Python 3"
    }
  },
  "cells": [
    {
      "cell_type": "markdown",
      "metadata": {
        "id": "view-in-github",
        "colab_type": "text"
      },
      "source": [
        "<a href=\"https://colab.research.google.com/github/inaph/30-Days-Of-Python/blob/master/seperate_lists.ipynb\" target=\"_parent\"><img src=\"https://colab.research.google.com/assets/colab-badge.svg\" alt=\"Open In Colab\"/></a>"
      ]
    },
    {
      "cell_type": "code",
      "metadata": {
        "id": "GaQ6Sg2Pn5np"
      },
      "source": [
        ""
      ],
      "execution_count": null,
      "outputs": []
    },
    {
      "cell_type": "code",
      "metadata": {
        "colab": {
          "base_uri": "https://localhost:8080/"
        },
        "id": "YEikh7GYoCuA",
        "outputId": "57695cf8-0e69-467a-a5cd-c0bddcc20a2a"
      },
      "source": [
        "data = [\r\n",
        "    \"Andromeda - Shrub\",\r\n",
        "    \"Bellflower - Flower\",\r\n",
        "    \"China Pink - Flower\",\r\n",
        "    \"Daffodil - Flower\",\r\n",
        "    \"Evening Primrose - Flower\",\r\n",
        "    \"French Marigold - Flower\",\r\n",
        "    \"Hydrangea - Shrub\",\r\n",
        "    \"Iris - Flower\",\r\n",
        "    \"Japanese Camellia - Shrub\",\r\n",
        "    \"Lavender - Shrub\",\r\n",
        "    \"Lilac - Shrub\",\r\n",
        "    \"Magnolia - Shrub\",\r\n",
        "    \"Peony - Shrub\",\r\n",
        "    \"Queen Anne's Lace - Flower\",\r\n",
        "    \"Red Hot Poker - Flower\",\r\n",
        "    \"Snapdragon - Flower\",\r\n",
        "    \"Sunflower - Flower\",\r\n",
        "    \"Tiger Lily - Flower\",\r\n",
        "    \"Witch Hazel - Shrub\",\r\n",
        "]\r\n",
        "\r\n",
        "flowers = []\r\n",
        "shrubs = []\r\n",
        "\r\n",
        "for plant in data:\r\n",
        "    if \"Flower\" in plant:\r\n",
        "        flowers.append(plant)\r\n",
        "    elif \"Shrub\" in plant:\r\n",
        "        shrubs.append(plant)\r\n",
        "print(flowers)\r\n",
        "print(shrubs)"
      ],
      "execution_count": 9,
      "outputs": [
        {
          "output_type": "stream",
          "text": [
            "['Bellflower - Flower', 'China Pink - Flower', 'Daffodil - Flower', 'Evening Primrose - Flower', 'French Marigold - Flower', 'Iris - Flower', \"Queen Anne's Lace - Flower\", 'Red Hot Poker - Flower', 'Snapdragon - Flower', 'Sunflower - Flower', 'Tiger Lily - Flower']\n",
            "['Andromeda - Shrub', 'Hydrangea - Shrub', 'Japanese Camellia - Shrub', 'Lavender - Shrub', 'Lilac - Shrub', 'Magnolia - Shrub', 'Peony - Shrub', 'Witch Hazel - Shrub']\n"
          ],
          "name": "stdout"
        }
      ]
    }
  ]
}